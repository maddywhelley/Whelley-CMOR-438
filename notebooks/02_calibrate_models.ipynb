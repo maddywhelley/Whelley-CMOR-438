{
 "cells": [
  {
   "cell_type": "code",
   "execution_count": 1,
   "id": "db946e3d",
   "metadata": {},
   "outputs": [
    {
     "data": {
      "text/plain": [
       "regime\n",
       "calm          0.246541\n",
       "stochastic    0.863388\n",
       "volatile      0.889480\n",
       "Name: rmse, dtype: float64"
      ]
     },
     "execution_count": 1,
     "metadata": {},
     "output_type": "execute_result"
    }
   ],
   "source": [
    "from rice_ml.simulate_sde import generate_regime_dataset\n",
    "from rice_ml.calibrate_models import calibrate_black_scholes\n",
    "import os\n",
    "os.chdir(\"..\")\n",
    "df = generate_regime_dataset(300)\n",
    "results = calibrate_black_scholes(df)\n",
    "results.groupby(\"regime\")[\"rmse\"].mean()"
   ]
  }
 ],
 "metadata": {
  "kernelspec": {
   "display_name": ".venv",
   "language": "python",
   "name": "python3"
  },
  "language_info": {
   "codemirror_mode": {
    "name": "ipython",
    "version": 3
   },
   "file_extension": ".py",
   "mimetype": "text/x-python",
   "name": "python",
   "nbconvert_exporter": "python",
   "pygments_lexer": "ipython3",
   "version": "3.13.2"
  }
 },
 "nbformat": 4,
 "nbformat_minor": 5
}
