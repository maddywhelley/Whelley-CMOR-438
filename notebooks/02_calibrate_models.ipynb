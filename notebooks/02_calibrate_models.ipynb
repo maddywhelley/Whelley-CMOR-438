{
 "cells": [
  {
   "cell_type": "code",
   "execution_count": null,
   "id": "db946e3d",
   "metadata": {},
   "outputs": [
    {
     "data": {
      "text/plain": [
       "regime\n",
       "calm          0.246541\n",
       "stochastic    0.863388\n",
       "volatile      0.889480\n",
       "Name: rmse, dtype: float64"
      ]
     },
     "execution_count": 1,
     "metadata": {},
     "output_type": "execute_result"
    }
   ],
   "source": [
    "from rice_ml.simulate_sde import generate_regime_dataset\n",
    "from rice_ml.calibrate_models import calibrate_black_scholes\n",
    "import os\n",
    "\n",
    "# Move to project root to ensure data goes to correct folder\n",
    "os.chdir(\"..\")\n",
    "\n",
    "# Generate simulated price paths across all regimes, fit Black-Scholes models to each path, and compute RMSE per simulation\n",
    "df = generate_regime_dataset(300)\n",
    "results = calibrate_black_scholes(df)\n",
    "\n",
    "# Compare average model error across regimes\n",
    "results.groupby(\"regime\")[\"rmse\"].mean()"
   ]
  },
  {
   "cell_type": "markdown",
   "id": "ef9a8833",
   "metadata": {},
   "source": [
    "### Model Calibration Performance\n",
    "Average RMSE values show that the Black-Scholes model fits calm regimes best, while performance deteriorates in stochastic and volatile regimes, as expected since constant-volatility assumptions break down when $\\sigma$ varies significantly."
   ]
  }
 ],
 "metadata": {
  "kernelspec": {
   "display_name": ".venv",
   "language": "python",
   "name": "python3"
  },
  "language_info": {
   "codemirror_mode": {
    "name": "ipython",
    "version": 3
   },
   "file_extension": ".py",
   "mimetype": "text/x-python",
   "name": "python",
   "nbconvert_exporter": "python",
   "pygments_lexer": "ipython3",
   "version": "3.13.2"
  }
 },
 "nbformat": 4,
 "nbformat_minor": 5
}
